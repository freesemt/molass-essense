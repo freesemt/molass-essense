{
 "cells": [
  {
   "cell_type": "markdown",
   "id": "9bc58fc9",
   "metadata": {},
   "source": [
    "# Low Rank Factorization\n",
    "\n",
    "Among the above mentioned steps, Low Rank Factorization[^1] using elution curve models is the most distinctive feature of `Molass Library`. It is directly related to the decomposition of species contained in the sample, which is first attained physically by the Size Exclusion Chromatograpy, followed by logical estimation and optimization of the software. When the chromatographic peaks are sufficiently separated, the decomposition is relatively simple. Otherwise, i.e., when the peaks overlap widely, it becomes challenging due to underdeterminedness[^2] from noise, the handling of which is beyond the scope of this paper and possibly might be studied using the future versions of this library.\n",
    "\n",
    "Here, we decribe the essense of easier part to give a basic idea of what it is all about. For discussion, it is convenient to use matrices. Ideally, then, the decomposition should be expressed as follows:\n",
    "\n",
    "$$ M = P \\cdot C \\qquad \\qquad (1) $$\n",
    "\n",
    "where the symbols are\n",
    "\n",
    "* $M$ : matrix of measured data,\n",
    "* $P$ : matrix made of columns of component scattering curves,\n",
    "* $C$ : matrix made of rows of component elution curves.\n",
    "\n",
    "[^1]: Where it is often also called Low Rank Approximation, we prefer the word \"Factorization\" because, in this context, the latter word matches better, in psychological orientation, to decomposition.\n",
    "\n",
    "[^2]: By \"underdeterminedness\", we mean here the situation where many decomposition candidates are found and we have no definite information to reduce them to a fewer number which can be studied effectively.\n",
    "\n",
    "See the following figure to get intuition of this decomposition.\n",
    "\n",
    "![Illustratin of Decomposition using Simulated Data](figs/lrf-data.png)\n",
    "\n",
    "Using the above relation, the solution can be calculated, in the sense of footnote[^3], as follows:\n",
    "\n",
    "[^3]: $P$ is determined as the best possible solution which minimizes $\\| M - P \\cdot C \\|$.\n",
    "\n",
    "$$ P = M \\cdot C^{+} \\qquad \\qquad (2) $$\n",
    "\n",
    "where\n",
    "\n",
    "* $C^{+}$ : Moore-Penrose inverse. {cite:p}`Penrose_1955`, {cite:p}`Penrose_1956`\n",
    "\n",
    "Note that in formula $(1)$ and $(2)$, $P$ and $C$ are equally eligible mathematically, but physically not. In fact, we get $P$ from $M$ and $C$, because $M$ is given and it is easier to estimate $C$ rather than $P$. The reason for this is as follows.\n",
    "\n",
    "For elution curves in $C$, the SEC principle {cite:p}`Striegel_2009` applies, where the component particles elute in the descending order of particle size, namely the larger comes earlier, resulting in curves with (hopefully) distant peaks, each of which is relatively easy to model as mentioned later.\n",
    "\n",
    "For scattering curves in $P$ on the other hand, to the best of our knowledge, we only have classical models for extreme regions, namely, Guinier Approximation {cite:p}`Guinier_1939` for small angle regions and Porod's law {cite}`Porod_1951` for larger angle regions, and none for intermediate regions. From our experience, models just smoothly linking those extreme regions, as the one used in the above figure {cite:p}`Hammouda:ce5078`, do not seem applicable at least to real protein samples."
   ]
  }
 ],
 "metadata": {
  "kernelspec": {
   "display_name": "Python 3",
   "language": "python",
   "name": "python3"
  },
  "language_info": {
   "codemirror_mode": {
    "name": "ipython",
    "version": 3
   },
   "file_extension": ".py",
   "mimetype": "text/x-python",
   "name": "python",
   "nbconvert_exporter": "python",
   "pygments_lexer": "ipython3",
   "version": "3.12.9"
  }
 },
 "nbformat": 4,
 "nbformat_minor": 5
}
