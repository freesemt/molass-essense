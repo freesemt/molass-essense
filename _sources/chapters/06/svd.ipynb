{
 "cells": [
  {
   "cell_type": "markdown",
   "id": "9bc58fc9",
   "metadata": {},
   "source": [
    "# Singular Value Decomposition\n",
    "\n",
    "For noisy data from real experiments, the equation $(1)$ should be interpreted as:\n",
    "\n",
    "$$ \\min_{P,C} \\| M - P \\cdot C \\| \\qquad \\qquad (3) $$\n",
    "\n",
    "meaning $M \\approx P \\cdot C$.\n",
    "As commonly known {cite:p}`Schanze_2018`, we can denoise $M$ by ignoring the insignificant tail[^1] of the following expansion made from SVD - Singular Value Decomposition - based on the linear nature expected in the data.\n",
    "\n",
    "$$ M = \\sum_{i=1}^{n} \\sigma_i u_i v_i^* \\qquad \\qquad (4) $$\n",
    "\n",
    "where\n",
    "\n",
    "* $n \\leq \\min(rows, columns)$ : the rank of $M$,\n",
    "* $\\sigma_i$ : ith singular value,\n",
    "* $u_i$ : ith row vector of the unitary matrix usually denoted by $U$,\n",
    "* $v_i^*$ : traspose of ith row vector of the unitary matrix usually denoted by $V$.\n",
    "\n",
    "Reducing $\\| M - P \\cdot C \\|$ by using the denoised $M$ in place of the original, we can expect a better estimation as performed in the library. \n",
    "\n",
    "[^1]: terms where $n \\geq i \\geq r$ assuming the target rank is r, which is supposed to be the number of components in cases of simple assumption. Otherwize, e.g, if any significant interparticle effects are suspected, this number should be duly incremented. `Molass Library` can deal with this issue by adding extra quadratic rows to $C$ when the concentration dependence can be assumed linear.\n"
   ]
  }
 ],
 "metadata": {
  "kernelspec": {
   "display_name": "Python 3",
   "language": "python",
   "name": "python3"
  },
  "language_info": {
   "codemirror_mode": {
    "name": "ipython",
    "version": 3
   },
   "file_extension": ".py",
   "mimetype": "text/x-python",
   "name": "python",
   "nbconvert_exporter": "python",
   "pygments_lexer": "ipython3",
   "version": "3.12.9"
  }
 },
 "nbformat": 4,
 "nbformat_minor": 5
}
