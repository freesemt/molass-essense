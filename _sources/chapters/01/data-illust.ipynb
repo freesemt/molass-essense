{
 "cells": [
  {
   "cell_type": "markdown",
   "id": "e66eb023-d244-45fe-a583-9a08c405a996",
   "metadata": {},
   "source": [
    "# Data Illustration"
   ]
  },
  {
   "cell_type": "markdown",
   "id": "8adfcdc2",
   "metadata": {},
   "source": [
    "## SEC-SAXS Experiment\n",
    "\n",
    "The data we will discuss here come from experiments conducted in device systems such as\n",
    "\n",
    "* [SEC-SAXS System](https://new.spring8.or.jp/index.php/home/2021-03-23-05-27-47/2-uncategorised/327-sec-saxs).\n",
    "\n",
    "Acknowledging the fundamental importance of hardware acpects, we set them aside and start from the situation where data are already given."
   ]
  },
  {
   "cell_type": "markdown",
   "id": "6015f5a1",
   "metadata": {},
   "source": [
    "## Elution Data\n",
    "\n",
    "<div align=\"center\"><img src=\"../../_static/animations/sec-saxs.gif\" width=\"80%\"></div>"
   ]
  },
  {
   "cell_type": "markdown",
   "id": "71d39b44",
   "metadata": {},
   "source": [
    "## UV Absorbance Data"
   ]
  },
  {
   "cell_type": "markdown",
   "id": "6d419fb6",
   "metadata": {},
   "source": [
    "## X-ray Scattering Data"
   ]
  }
 ],
 "metadata": {
  "kernelspec": {
   "display_name": "Python 3",
   "language": "python",
   "name": "python3"
  },
  "language_info": {
   "codemirror_mode": {
    "name": "ipython",
    "version": 3
   },
   "file_extension": ".py",
   "mimetype": "text/x-python",
   "name": "python",
   "nbconvert_exporter": "python",
   "pygments_lexer": "ipython3",
   "version": "3.12.9"
  }
 },
 "nbformat": 4,
 "nbformat_minor": 5
}
