{
 "cells": [
  {
   "cell_type": "markdown",
   "id": "e66eb023-d244-45fe-a583-9a08c405a996",
   "metadata": {},
   "source": [
    "# Data Illustration"
   ]
  },
  {
   "cell_type": "markdown",
   "id": "8adfcdc2",
   "metadata": {},
   "source": [
    "## SEC-SAXS Experiments\n",
    "\n",
    "The data we will discuss here come from experiments conducted in device systems such as\n",
    "\n",
    "* [SEC-SAXS System in SPring-8, Japan](https://new.spring8.or.jp/index.php/home/2021-03-23-05-27-47/2-uncategorised/327-sec-saxs).\n",
    "\n",
    "Acknowledging importance of the hardware acpects, we set them aside and start from a situation where data are given, duly processed as input to `Molass Library`.\n",
    "\n",
    "That said, to share the discussion context, we need a minimum idea of what they are like, which will be illustrated below from different points of view."
   ]
  },
  {
   "cell_type": "markdown",
   "id": "99fca029",
   "metadata": {},
   "source": [
    "## 3D View\n",
    "\n",
    "Since the data are measured in two different ways, namely by UV absorbance and X-ray scattering, they can be expressed as a whole in 3D plots as follows.\n",
    "\n",
    "<div align=\"center\"><img src=\"../../_static/images/corrected_ssd_3d.png\" width=\"80%\"></div>"
   ]
  },
  {
   "cell_type": "markdown",
   "id": "6015f5a1",
   "metadata": {},
   "source": [
    "## Elutional View\n",
    "\n",
    "\n",
    "\n",
    "<div align=\"center\"><img src=\"../../_static/animations/sec-saxs.gif\" width=\"80%\"></div>"
   ]
  },
  {
   "cell_type": "markdown",
   "id": "71d39b44",
   "metadata": {},
   "source": [
    "## Spectral View\n"
   ]
  },
  {
   "cell_type": "markdown",
   "id": "15afe7a6",
   "metadata": {},
   "source": [
    "### UV Absorbance Curve"
   ]
  },
  {
   "cell_type": "markdown",
   "id": "6d419fb6",
   "metadata": {},
   "source": [
    "### X-ray Scattering Curve"
   ]
  }
 ],
 "metadata": {
  "kernelspec": {
   "display_name": "Python 3",
   "language": "python",
   "name": "python3"
  },
  "language_info": {
   "codemirror_mode": {
    "name": "ipython",
    "version": 3
   },
   "file_extension": ".py",
   "mimetype": "text/x-python",
   "name": "python",
   "nbconvert_exporter": "python",
   "pygments_lexer": "ipython3",
   "version": "3.12.9"
  }
 },
 "nbformat": 4,
 "nbformat_minor": 5
}
